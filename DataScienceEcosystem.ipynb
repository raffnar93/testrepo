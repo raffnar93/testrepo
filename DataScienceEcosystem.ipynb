{
 "cells": [
  {
   "cell_type": "markdown",
   "id": "e83abaa7-cd4c-4fc2-9aae-b15f06ea7bef",
   "metadata": {},
   "source": [
    "# Data Science Tolls and Ecosystems"
   ]
  },
  {
   "cell_type": "markdown",
   "id": "0d65c39e-6258-4d54-bcc0-488ecf1cdf35",
   "metadata": {},
   "source": [
    "In this notebook fundamental data science tools are summerized. "
   ]
  },
  {
   "cell_type": "markdown",
   "id": "86916c2f-9e82-47f1-9792-42cc99357578",
   "metadata": {},
   "source": [
    "**objectives:**\n",
    "* use markdown sythax\n",
    "* use elementary operations in Python\n",
    "* list some fundamental tools for data science, such as languages, libraries, development environments"
   ]
  },
  {
   "cell_type": "markdown",
   "id": "ae87037a-b462-4fd8-af1d-66c24ef5e88d",
   "metadata": {},
   "source": [
    "Some of the most popular programming languages used in data science are:\n",
    "1. Python\n",
    "2. R\n",
    "3. SQL\n",
    "4. Java\n",
    "5. Scala\n",
    "6. Julia\n",
    "7. C++"
   ]
  },
  {
   "cell_type": "markdown",
   "id": "a173aad1-1c0c-48f1-a96f-96dcc498ae58",
   "metadata": {},
   "source": [
    "Some of the most commonlyused data science libraries are:\n",
    "1. Pandas\n",
    "2. NumPy\n",
    "3. Matplotlib\n",
    "4. Keras\n",
    "5. Spark\n",
    "6. Vegas\n",
    "7. ggplot2"
   ]
  },
  {
   "cell_type": "markdown",
   "id": "c2fc8900-7d2c-442a-bf4f-170e6f31ec04",
   "metadata": {},
   "source": [
    "|Data Science Tools|\n",
    "|-------|\n",
    "|JupyterNotebook|\n",
    "|RStudio|\n",
    "|Spyder|"
   ]
  },
  {
   "cell_type": "markdown",
   "id": "f48a31ff-9032-49f4-b637-2e40eec5e632",
   "metadata": {},
   "source": [
    "### Below are some examples of arithmetic expressions evaluated using Python."
   ]
  },
  {
   "cell_type": "code",
   "execution_count": 15,
   "id": "dfc63dc3-01e5-44cb-aa45-6b4f955ad1b2",
   "metadata": {},
   "outputs": [
    {
     "data": {
      "text/plain": [
       "17"
      ]
     },
     "execution_count": 15,
     "metadata": {},
     "output_type": "execute_result"
    }
   ],
   "source": [
    "# This expression evaluates a simple arithmetic expression containing a sum and a multiplication between integers \n",
    "# The brackets are unnecessary.\n",
    "(3*4)+5"
   ]
  },
  {
   "cell_type": "code",
   "execution_count": 14,
   "id": "dcc35099-20dd-42a2-a1a9-9455ab673260",
   "metadata": {},
   "outputs": [
    {
     "data": {
      "text/plain": [
       "3.3333333333333335"
      ]
     },
     "execution_count": 14,
     "metadata": {},
     "output_type": "execute_result"
    }
   ],
   "source": [
    "# This operation allows to convert a time measure of 200 minutes into hours\n",
    "200/60"
   ]
  },
  {
   "cell_type": "markdown",
   "id": "69cd6172-6cfe-480e-979d-e2dfba7582bd",
   "metadata": {},
   "source": [
    "## Author\n",
    "Raffaele Narciso"
   ]
  },
  {
   "cell_type": "code",
   "execution_count": null,
   "id": "28a3a1a4-d27e-4f72-9906-f6cdfaa52d02",
   "metadata": {},
   "outputs": [],
   "source": []
  }
 ],
 "metadata": {
  "kernelspec": {
   "display_name": "Python 3 (ipykernel)",
   "language": "python",
   "name": "python3"
  },
  "language_info": {
   "codemirror_mode": {
    "name": "ipython",
    "version": 3
   },
   "file_extension": ".py",
   "mimetype": "text/x-python",
   "name": "python",
   "nbconvert_exporter": "python",
   "pygments_lexer": "ipython3",
   "version": "3.12.8"
  }
 },
 "nbformat": 4,
 "nbformat_minor": 5
}
